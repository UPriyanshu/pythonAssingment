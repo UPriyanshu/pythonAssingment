{
 "cells": [
  {
   "cell_type": "code",
   "execution_count": 1,
   "id": "e0277306-e4f6-41ce-8ba3-143d693b9153",
   "metadata": {},
   "outputs": [],
   "source": [
    "def myFunction():\n",
    "    user_inputs = []\n",
    "    \n",
    "    while True:\n",
    "        val = input(\"\"\"\n",
    "        1 --> Break the loop \n",
    "        2 --> append in list \\n\"\"\")\n",
    "        \n",
    "        if val == '1':\n",
    "            print(\"Exiting loop\")\n",
    "            break\n",
    "        elif val == '2':\n",
    "            value = int(input(\"Enter a value to append: \"))\n",
    "            user_inputs.append(value)\n",
    "        else:\n",
    "            print(\"Invalid input. Please enter '1' or '2'.\")\n",
    "    \n",
    "    return user_inputs"
   ]
  },
  {
   "cell_type": "code",
   "execution_count": 7,
   "id": "8ddf404d-4473-4d27-aea2-f1961e136fda",
   "metadata": {},
   "outputs": [
    {
     "name": "stdin",
     "output_type": "stream",
     "text": [
      "\n",
      "        1 --> Break the loop \n",
      "        2 --> append in list \n",
      " 2\n",
      "Enter a value to append:  1\n",
      "\n",
      "        1 --> Break the loop \n",
      "        2 --> append in list \n",
      " 2\n",
      "Enter a value to append:  4\n",
      "\n",
      "        1 --> Break the loop \n",
      "        2 --> append in list \n",
      " 2\n",
      "Enter a value to append:  425\n",
      "\n",
      "        1 --> Break the loop \n",
      "        2 --> append in list \n",
      " 2\n",
      "Enter a value to append:  78\n",
      "\n",
      "        1 --> Break the loop \n",
      "        2 --> append in list \n",
      " 1\n"
     ]
    },
    {
     "name": "stdout",
     "output_type": "stream",
     "text": [
      "Exiting loop\n",
      "Collected values: [1, 4, 425, 78]\n"
     ]
    }
   ],
   "source": [
    " result = myFunction()\n",
    "print(\"Collected values:\", result)"
   ]
  },
  {
   "cell_type": "code",
   "execution_count": 12,
   "id": "3a93420a-3a09-44b0-bfe4-b8b9d85b262f",
   "metadata": {},
   "outputs": [],
   "source": [
    "def myFunction2(value):\n",
    "    \n",
    "    # priting minimum value \n",
    "    min_value = min(value)\n",
    "    \n",
    "    # printing maximum value \n",
    "    max_value = max(value)\n",
    "    # program to print cummulative sum\n",
    "    \n",
    "    add = 0\n",
    "    count  = 1\n",
    "    cum_sum = []\n",
    "    for i in value:\n",
    "        add = add+i\n",
    "        cum_sum.append(add)\n",
    "        count +=1\n",
    "    \n",
    "    \n",
    "    # to find the average of the value \n",
    "    average = add / count\n",
    "    return min_value , max_value , cum_sum , average\n",
    "    "
   ]
  },
  {
   "cell_type": "code",
   "execution_count": 13,
   "id": "9ef88ead-af9d-4a4e-bf50-44a2c57ea46e",
   "metadata": {},
   "outputs": [],
   "source": [
    "a = myFunction2(result)"
   ]
  },
  {
   "cell_type": "code",
   "execution_count": 14,
   "id": "6050d0f1-ce2b-46c1-b944-9b265de58a95",
   "metadata": {},
   "outputs": [
    {
     "name": "stdout",
     "output_type": "stream",
     "text": [
      "(1, 425, [1, 5, 430, 508], 101.6)\n"
     ]
    }
   ],
   "source": [
    "print(a)"
   ]
  },
  {
   "cell_type": "code",
   "execution_count": null,
   "id": "6a861b92-dc5c-40cf-9a10-b9c48fedb96f",
   "metadata": {},
   "outputs": [],
   "source": []
  }
 ],
 "metadata": {
  "kernelspec": {
   "display_name": "Python 3 (ipykernel)",
   "language": "python",
   "name": "python3"
  },
  "language_info": {
   "codemirror_mode": {
    "name": "ipython",
    "version": 3
   },
   "file_extension": ".py",
   "mimetype": "text/x-python",
   "name": "python",
   "nbconvert_exporter": "python",
   "pygments_lexer": "ipython3",
   "version": "3.12.5"
  }
 },
 "nbformat": 4,
 "nbformat_minor": 5
}
